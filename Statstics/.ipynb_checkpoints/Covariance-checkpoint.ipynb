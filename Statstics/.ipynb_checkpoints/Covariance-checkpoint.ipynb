{
 "cells": [
  {
   "cell_type": "markdown",
   "metadata": {},
   "source": [
    "# Covariance"
   ]
  },
  {
   "cell_type": "raw",
   "metadata": {},
   "source": [
    "If X is increase and Y is also incrase then covariance is +VE\n",
    "If X is decreae and Y is also dcrease then covariance is +VE\n",
    "If x is increase and Y Is dcrease then covarince is -VE\n",
    "IF X is decease and Y is increase then covariance is -VE\n",
    "\n",
    "However, how much it is +VE and how much it is -VE that we can find using Pearson Correlation"
   ]
  },
  {
   "cell_type": "markdown",
   "metadata": {},
   "source": [
    "# Pearson Correlation"
   ]
  },
  {
   "cell_type": "markdown",
   "metadata": {},
   "source": [
    "Correlation value will be always between <b>-1 to +1</b>, it menas <b>-1 <= P <= 1</b>"
   ]
  },
  {
   "cell_type": "code",
   "execution_count": null,
   "metadata": {},
   "outputs": [],
   "source": []
  }
 ],
 "metadata": {
  "kernelspec": {
   "display_name": "Python 2",
   "language": "python",
   "name": "python2"
  },
  "language_info": {
   "codemirror_mode": {
    "name": "ipython",
    "version": 3
   },
   "file_extension": ".py",
   "mimetype": "text/x-python",
   "name": "python",
   "nbconvert_exporter": "python",
   "pygments_lexer": "ipython3",
   "version": "3.7.3"
  }
 },
 "nbformat": 4,
 "nbformat_minor": 2
}
