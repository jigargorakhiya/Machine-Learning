{
 "cells": [
  {
   "cell_type": "code",
   "execution_count": 24,
   "metadata": {},
   "outputs": [],
   "source": [
    "from csv import reader\n",
    "hacker_news_posts = open(\"hacker_news.csv\")\n",
    "hn = list (reader(hacker_news_posts))\n",
    "header = hn[0]\n",
    "hn = hn[1:]"
   ]
  },
  {
   "cell_type": "code",
   "execution_count": 29,
   "metadata": {},
   "outputs": [],
   "source": [
    "def explort_data(dataset,start,end,rows_and_columns=False):\n",
    "    dataset_slice = dataset[start:end]\n",
    "    \n",
    "    for rows in dataset_slice:\n",
    "        print(rows)\n",
    "        print(\"\\n\")\n",
    "    \n",
    "    if rows_and_columns == True:\n",
    "        print(\"No of Columns\",len(dataset[0]))\n",
    "        print(\"No of Rows\",len(dataset))"
   ]
  },
  {
   "cell_type": "code",
   "execution_count": 30,
   "metadata": {},
   "outputs": [
    {
     "name": "stdout",
     "output_type": "stream",
     "text": [
      "['id', 'title', 'url', 'num_points', 'num_comments', 'author', 'created_at']\n",
      "\n",
      "\n",
      "['12224879', 'Interactive Dynamic Video', 'http://www.interactivedynamicvideo.com/', '386', '52', 'ne0phyte', '8/4/2016 11:52']\n",
      "\n",
      "\n",
      "['10975351', 'How to Use Open Source and Shut the Fuck Up at the Same Time', 'http://hueniverse.com/2016/01/26/how-to-use-open-source-and-shut-the-fuck-up-at-the-same-time/', '39', '10', 'josep2', '1/26/2016 19:30']\n",
      "\n",
      "\n",
      "['11964716', \"Florida DJs May Face Felony for April Fools' Water Joke\", 'http://www.thewire.com/entertainment/2013/04/florida-djs-april-fools-water-joke/63798/', '2', '1', 'vezycash', '6/23/2016 22:20']\n",
      "\n",
      "\n",
      "['11919867', 'Technology ventures: From Idea to Enterprise', 'https://www.amazon.com/Technology-Ventures-Enterprise-Thomas-Byers/dp/0073523429', '3', '1', 'hswarna', '6/17/2016 0:01']\n",
      "\n",
      "\n",
      "['10301696', 'Note by Note: The Making of Steinway L1037 (2007)', 'http://www.nytimes.com/2007/11/07/movies/07stein.html?_r=0', '8', '2', 'walterbell', '9/30/2015 4:12']\n",
      "\n",
      "\n",
      "['10482257', 'Title II kills investment? Comcast and other ISPs are now spending more', 'http://arstechnica.com/business/2015/10/comcast-and-other-isps-boost-network-investment-despite-net-neutrality/', '53', '22', 'Deinos', '10/31/2015 9:48']\n",
      "\n",
      "\n",
      "No of Columns 7\n",
      "No of Rows 20100\n"
     ]
    }
   ],
   "source": [
    "print(header)\n",
    "print(\"\\n\")\n",
    "explort_data(hn,0,6,True)"
   ]
  },
  {
   "cell_type": "code",
   "execution_count": 37,
   "metadata": {},
   "outputs": [
    {
     "name": "stdout",
     "output_type": "stream",
     "text": [
      "Show Posts:  1164\n",
      "['10627194', 'Show HN: Wio Link  ESP8266 Based Web of Things Hardware Development Platform', 'https://iot.seeed.cc', '26', '22', 'kfihihc', '11/25/2015 14:03']\n",
      "\n",
      "\n",
      "['10646440', 'Show HN: Something pointless I made', 'http://dn.ht/picklecat/', '747', '102', 'dhotson', '11/29/2015 22:46']\n",
      "\n",
      "\n",
      "['11590768', 'Show HN: Shanhu.io, a programming playground powered by e8vm', 'https://shanhu.io', '1', '1', 'h8liu', '4/28/2016 18:05']\n",
      "\n",
      "\n",
      "\n",
      "\n",
      "Ask Posts:  1756\n",
      "['12296411', 'Ask HN: How to improve my personal website?', '', '2', '6', 'ahmedbaracat', '8/16/2016 9:55']\n",
      "\n",
      "\n",
      "['10610020', 'Ask HN: Am I the only one outraged by Twitter shutting down share counts?', '', '28', '29', 'tkfx', '11/22/2015 13:43']\n",
      "\n",
      "\n",
      "['11610310', 'Ask HN: Aby recent changes to CSS that broke mobile?', '', '1', '1', 'polskibus', '5/2/2016 10:14']\n",
      "\n",
      "\n",
      "\n",
      "\n",
      "Other Posts:  17180\n",
      "['12224879', 'Interactive Dynamic Video', 'http://www.interactivedynamicvideo.com/', '386', '52', 'ne0phyte', '8/4/2016 11:52']\n",
      "\n",
      "\n",
      "['10975351', 'How to Use Open Source and Shut the Fuck Up at the Same Time', 'http://hueniverse.com/2016/01/26/how-to-use-open-source-and-shut-the-fuck-up-at-the-same-time/', '39', '10', 'josep2', '1/26/2016 19:30']\n",
      "\n",
      "\n",
      "['11964716', \"Florida DJs May Face Felony for April Fools' Water Joke\", 'http://www.thewire.com/entertainment/2013/04/florida-djs-april-fools-water-joke/63798/', '2', '1', 'vezycash', '6/23/2016 22:20']\n",
      "\n",
      "\n"
     ]
    }
   ],
   "source": [
    "ask_posts = []\n",
    "show_posts = []\n",
    "other_posts = []\n",
    "\n",
    "for post in hn:\n",
    "    title = post[1].lower()\n",
    "    if title.startswith(\"ask\"):\n",
    "        ask_posts.append(post)\n",
    "    elif title.startswith(\"show\"):\n",
    "        show_posts.append(post)\n",
    "    else:\n",
    "        other_posts.append(post)\n",
    "\n",
    "print(\"Show Posts: \",len(show_posts))\n",
    "explort_data(show_posts,0,3)\n",
    "\n",
    "print(\"\\n\")\n",
    "print(\"Ask Posts: \",len(ask_posts))\n",
    "explort_data(ask_posts,0,3)\n",
    "\n",
    "print(\"\\n\")\n",
    "print(\"Other Posts: \",len(other_posts))\n",
    "explort_data(other_posts,0,3)"
   ]
  },
  {
   "cell_type": "code",
   "execution_count": 58,
   "metadata": {},
   "outputs": [
    {
     "name": "stdout",
     "output_type": "stream",
     "text": [
      "Avg Ask Comment Count: 14.2\n",
      "Avg Show comment count: 10.32\n"
     ]
    }
   ],
   "source": [
    "## Find out the no of comments\n",
    "total_ask_comment = 0\n",
    "total_show_comment = 0\n",
    "other_comment_count = 0\n",
    "\n",
    "for ask_post in ask_posts:\n",
    "    total_ask_comment += int(ask_post[4])\n",
    "\n",
    "for show_post in show_posts:\n",
    "    total_show_comment += int(show_post[4])\n",
    "\n",
    "avg_ask_comment = round(total_ask_comment/len(ask_posts),2)\n",
    "avg_show_comment = round(total_show_comment/len(show_posts),2)\n",
    "\n",
    "print(\"Avg Ask Comment Count:\",avg_ask_comment)\n",
    "print(\"Avg Show comment count:\",avg_show_comment)"
   ]
  },
  {
   "cell_type": "markdown",
   "metadata": {},
   "source": [
    "#### Ask posts receive more comments than show posts. Since ask posts are more likely to receive comments, we'll focus our remaining analysis just on these posts."
   ]
  },
  {
   "cell_type": "code",
   "execution_count": 143,
   "metadata": {},
   "outputs": [
    {
     "name": "stdout",
     "output_type": "stream",
     "text": [
      "Avg comment on 15 : 38.59\n",
      "Avg comment on 02 : 23.81\n",
      "Avg comment on 20 : 21.52\n",
      "Avg comment on 16 : 17.88\n",
      "Avg comment on 21 : 16.01\n",
      "Avg comment on 13 : 14.58\n"
     ]
    }
   ],
   "source": [
    "import datetime as dt\n",
    "result_list = []\n",
    "list1 = []\n",
    "for ask_post in ask_posts:\n",
    "    result_list.append([ask_post[6],int(ask_post[4])])\n",
    "\n",
    "counts_by_hour = {}\n",
    "comments_by_hour = {}\n",
    "for result in result_list:\n",
    "    date = result[0]\n",
    "    comment_count = result[1]\n",
    "    post_date = dt.datetime.strptime(date, \"%m/%d/%Y %H:%M\")\n",
    "    hour = post_date.strftime(\"%H\")\n",
    "    \n",
    "    if hour in counts_by_hour:\n",
    "        counts_by_hour[hour] +=1\n",
    "    else:\n",
    "        counts_by_hour[hour] = 1\n",
    "    \n",
    "    if hour in comments_by_hour:\n",
    "        comments_by_hour[hour] += comment_count\n",
    "    else:\n",
    "        comments_by_hour[hour] = comment_count\n",
    "\n",
    "\n",
    "avg_count_by_hour= []\n",
    "for hour,comment in comments_by_hour.items():\n",
    "    avg_count_by_hour.append([hour, round(comment/counts_by_hour[hour],2)])\n",
    "\n",
    "avg_swaped_hours = []\n",
    "for avg in avg_count_by_hour:\n",
    "    avg_swaped_hours.append([avg[1],avg[0]])\n",
    "\n",
    "sorted_swap = sorted(avg_swaped_hours,reverse=True)\n",
    "\n",
    "for data in sorted_swap[:6]:\n",
    "    print(\"Avg comment on {} : {}\".format(data[1],data[0]))"
   ]
  },
  {
   "cell_type": "markdown",
   "metadata": {},
   "source": [
    "### if you write an ASK post on 3PM EST Time then there is higher chance that you will recive more number of comments"
   ]
  }
 ],
 "metadata": {
  "kernelspec": {
   "display_name": "Python 3",
   "language": "python",
   "name": "python3"
  },
  "language_info": {
   "codemirror_mode": {
    "name": "ipython",
    "version": 3
   },
   "file_extension": ".py",
   "mimetype": "text/x-python",
   "name": "python",
   "nbconvert_exporter": "python",
   "pygments_lexer": "ipython3",
   "version": "3.7.5"
  }
 },
 "nbformat": 4,
 "nbformat_minor": 2
}
